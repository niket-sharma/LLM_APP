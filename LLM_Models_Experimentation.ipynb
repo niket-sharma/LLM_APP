{
  "cells": [
    {
      "cell_type": "markdown",
      "metadata": {
        "id": "view-in-github",
        "colab_type": "text"
      },
      "source": [
        "<a href=\"https://colab.research.google.com/github/niket-sharma/LLM_APP/blob/main/LLM_Models_Experimentation.ipynb\" target=\"_parent\"><img src=\"https://colab.research.google.com/assets/colab-badge.svg\" alt=\"Open In Colab\"/></a>"
      ]
    },
    {
      "cell_type": "markdown",
      "id": "06cf3063-9f3e-4551-a0d5-f08d9cabb927",
      "metadata": {
        "id": "06cf3063-9f3e-4551-a0d5-f08d9cabb927"
      },
      "source": [
        "\n",
        "\n",
        "## Frontier Model APIs\n",
        "\n",
        "In Week 1, we used multiple Frontier LLMs through their Chat UI, and we connected with the OpenAI's API.\n",
        "\n",
        "Today we'll connect with the APIs for Anthropic and Google, as well as OpenAI."
      ]
    },
    {
      "cell_type": "markdown",
      "id": "2b268b6e-0ba4-461e-af86-74a41f4d681f",
      "metadata": {
        "id": "2b268b6e-0ba4-461e-af86-74a41f4d681f"
      },
      "source": [
        "<table style=\"margin: 0; text-align: left;\">\n",
        "    <tr>\n",
        "        <td style=\"width: 150px; height: 150px; vertical-align: middle;\">\n",
        "            <img src=\"../important.jpg\" width=\"150\" height=\"150\" style=\"display: block;\" />\n",
        "        </td>\n",
        "        <td>\n",
        "            <h2 style=\"color:#900;\">Important Note - Please read me</h2>\n",
        "            <span style=\"color:#900;\">I'm continually improving these labs, adding more examples and exercises.\n",
        "            At the start of each week, it's worth checking you have the latest code.<br/>\n",
        "            First do a <a href=\"https://chatgpt.com/share/6734e705-3270-8012-a074-421661af6ba9\">git pull and merge your changes as needed</a>. Any problems? Try asking ChatGPT to clarify how to merge - or contact me!<br/><br/>\n",
        "            After you've pulled the code, from the llm_engineering directory, in an Anaconda prompt (PC) or Terminal (Mac), run:<br/>\n",
        "            <code>conda env update --f environment.yml</code><br/>\n",
        "            Or if you used virtualenv rather than Anaconda, then run this from your activated environment in a Powershell (PC) or Terminal (Mac):<br/>\n",
        "            <code>pip install -r requirements.txt</code>\n",
        "            <br/>Then restart the kernel (Kernel menu >> Restart Kernel and Clear Outputs Of All Cells) to pick up the changes.\n",
        "            </span>\n",
        "        </td>\n",
        "    </tr>\n",
        "</table>\n",
        "<table style=\"margin: 0; text-align: left;\">\n",
        "    <tr>\n",
        "        <td style=\"width: 150px; height: 150px; vertical-align: middle;\">\n",
        "            <img src=\"../resources.jpg\" width=\"150\" height=\"150\" style=\"display: block;\" />\n",
        "        </td>\n",
        "        <td>\n",
        "            <h2 style=\"color:#f71;\">Reminder about the resources page</h2>\n",
        "            <span style=\"color:#f71;\">Here's a link to resources for the course. This includes links to all the slides.<br/>\n",
        "            <a href=\"https://edwarddonner.com/2024/11/13/llm-engineering-resources/\">https://edwarddonner.com/2024/11/13/llm-engineering-resources/</a><br/>\n",
        "            Please keep this bookmarked, and I'll continue to add more useful links there over time.\n",
        "            </span>\n",
        "        </td>\n",
        "    </tr>\n",
        "</table>"
      ]
    },
    {
      "cell_type": "markdown",
      "id": "85cfe275-4705-4d30-abea-643fbddf1db0",
      "metadata": {
        "id": "85cfe275-4705-4d30-abea-643fbddf1db0"
      },
      "source": [
        "## Setting up your keys\n",
        "\n",
        "If you haven't done so already, you could now create API keys for Anthropic and Google in addition to OpenAI.\n",
        "\n",
        "**Please note:** if you'd prefer to avoid extra API costs, feel free to skip setting up Anthopic and Google! You can see me do it, and focus on OpenAI for the course. You could also substitute Anthropic and/or Google for Ollama, using the exercise you did in week 1.\n",
        "\n",
        "For OpenAI, visit https://openai.com/api/  \n",
        "For Anthropic, visit https://console.anthropic.com/  \n",
        "For Google, visit https://ai.google.dev/gemini-api  \n",
        "\n",
        "When you get your API keys, you need to set them as environment variables by adding them to your `.env` file.\n",
        "\n",
        "```\n",
        "OPENAI_API_KEY=xxxx\n",
        "ANTHROPIC_API_KEY=xxxx\n",
        "GOOGLE_API_KEY=xxxx\n",
        "```\n",
        "\n",
        "Afterwards, you may need to restart the Jupyter Lab Kernel (the Python process that sits behind this notebook) via the Kernel menu, and then rerun the cells from the top."
      ]
    },
    {
      "cell_type": "code",
      "source": [
        "!pip install anthropic"
      ],
      "metadata": {
        "colab": {
          "base_uri": "https://localhost:8080/"
        },
        "id": "5NNZjdxiOV_J",
        "outputId": "3677f336-21a8-4e29-fe27-09cd4b60156f"
      },
      "id": "5NNZjdxiOV_J",
      "execution_count": 8,
      "outputs": [
        {
          "output_type": "stream",
          "name": "stdout",
          "text": [
            "Requirement already satisfied: anthropic in /usr/local/lib/python3.11/dist-packages (0.49.0)\n",
            "Requirement already satisfied: anyio<5,>=3.5.0 in /usr/local/lib/python3.11/dist-packages (from anthropic) (4.9.0)\n",
            "Requirement already satisfied: distro<2,>=1.7.0 in /usr/local/lib/python3.11/dist-packages (from anthropic) (1.9.0)\n",
            "Requirement already satisfied: httpx<1,>=0.23.0 in /usr/local/lib/python3.11/dist-packages (from anthropic) (0.28.1)\n",
            "Requirement already satisfied: jiter<1,>=0.4.0 in /usr/local/lib/python3.11/dist-packages (from anthropic) (0.9.0)\n",
            "Requirement already satisfied: pydantic<3,>=1.9.0 in /usr/local/lib/python3.11/dist-packages (from anthropic) (2.10.6)\n",
            "Requirement already satisfied: sniffio in /usr/local/lib/python3.11/dist-packages (from anthropic) (1.3.1)\n",
            "Requirement already satisfied: typing-extensions<5,>=4.10 in /usr/local/lib/python3.11/dist-packages (from anthropic) (4.12.2)\n",
            "Requirement already satisfied: idna>=2.8 in /usr/local/lib/python3.11/dist-packages (from anyio<5,>=3.5.0->anthropic) (3.10)\n",
            "Requirement already satisfied: certifi in /usr/local/lib/python3.11/dist-packages (from httpx<1,>=0.23.0->anthropic) (2025.1.31)\n",
            "Requirement already satisfied: httpcore==1.* in /usr/local/lib/python3.11/dist-packages (from httpx<1,>=0.23.0->anthropic) (1.0.7)\n",
            "Requirement already satisfied: h11<0.15,>=0.13 in /usr/local/lib/python3.11/dist-packages (from httpcore==1.*->httpx<1,>=0.23.0->anthropic) (0.14.0)\n",
            "Requirement already satisfied: annotated-types>=0.6.0 in /usr/local/lib/python3.11/dist-packages (from pydantic<3,>=1.9.0->anthropic) (0.7.0)\n",
            "Requirement already satisfied: pydantic-core==2.27.2 in /usr/local/lib/python3.11/dist-packages (from pydantic<3,>=1.9.0->anthropic) (2.27.2)\n"
          ]
        }
      ]
    },
    {
      "cell_type": "code",
      "source": [
        "!pip install dotenv"
      ],
      "metadata": {
        "colab": {
          "base_uri": "https://localhost:8080/"
        },
        "id": "27MHyCJ8YlLt",
        "outputId": "7d46dfd3-3fc5-4303-9e39-4beda8517cd9"
      },
      "id": "27MHyCJ8YlLt",
      "execution_count": 5,
      "outputs": [
        {
          "output_type": "stream",
          "name": "stdout",
          "text": [
            "Collecting dotenv\n",
            "  Downloading dotenv-0.9.9-py2.py3-none-any.whl.metadata (279 bytes)\n",
            "Collecting python-dotenv (from dotenv)\n",
            "  Downloading python_dotenv-1.0.1-py3-none-any.whl.metadata (23 kB)\n",
            "Downloading dotenv-0.9.9-py2.py3-none-any.whl (1.9 kB)\n",
            "Downloading python_dotenv-1.0.1-py3-none-any.whl (19 kB)\n",
            "Installing collected packages: python-dotenv, dotenv\n",
            "Successfully installed dotenv-0.9.9 python-dotenv-1.0.1\n"
          ]
        }
      ]
    },
    {
      "cell_type": "code",
      "execution_count": 9,
      "id": "de23bb9e-37c5-4377-9a82-d7b6c648eeb6",
      "metadata": {
        "id": "de23bb9e-37c5-4377-9a82-d7b6c648eeb6"
      },
      "outputs": [],
      "source": [
        "# imports\n",
        "\n",
        "import os\n",
        "from dotenv import load_dotenv\n",
        "from openai import OpenAI\n",
        "import anthropic\n",
        "from IPython.display import Markdown, display, update_display"
      ]
    },
    {
      "cell_type": "code",
      "execution_count": 10,
      "id": "f0a8ab2b-6134-4104-a1bc-c3cd7ea4cd36",
      "metadata": {
        "id": "f0a8ab2b-6134-4104-a1bc-c3cd7ea4cd36"
      },
      "outputs": [],
      "source": [
        "# import for google\n",
        "# in rare cases, this seems to give an error on some systems, or even crashes the kernel\n",
        "# If this happens to you, simply ignore this cell - I give an alternative approach for using Gemini later\n",
        "\n",
        "import google.generativeai"
      ]
    },
    {
      "cell_type": "code",
      "execution_count": null,
      "id": "1179b4c5-cd1f-4131-a876-4c9f3f38d2ba",
      "metadata": {
        "id": "1179b4c5-cd1f-4131-a876-4c9f3f38d2ba"
      },
      "outputs": [],
      "source": [
        "# Load environment variables in a file called .env\n",
        "# Print the key prefixes to help with any debugging\n",
        "\n",
        "load_dotenv()\n",
        "openai_api_key = os.getenv('OPENAI_API_KEY')\n",
        "anthropic_api_key = os.getenv('ANTHROPIC_API_KEY')\n",
        "google_api_key = os.getenv('GOOGLE_API_KEY')\n",
        "\n",
        "if openai_api_key:\n",
        "    print(f\"OpenAI API Key exists and begins {openai_api_key[:8]}\")\n",
        "else:\n",
        "    print(\"OpenAI API Key not set\")\n",
        "\n",
        "if anthropic_api_key:\n",
        "    print(f\"Anthropic API Key exists and begins {anthropic_api_key[:7]}\")\n",
        "else:\n",
        "    print(\"Anthropic API Key not set\")\n",
        "\n",
        "if google_api_key:\n",
        "    print(f\"Google API Key exists and begins {google_api_key[:8]}\")\n",
        "else:\n",
        "    print(\"Google API Key not set\")"
      ]
    },
    {
      "cell_type": "code",
      "source": [
        "!ls -la /content"
      ],
      "metadata": {
        "colab": {
          "base_uri": "https://localhost:8080/"
        },
        "id": "hs0w7e1Mb-UY",
        "outputId": "4b9ac4b7-a402-4ebb-f8e8-1f3bd214e68e"
      },
      "id": "hs0w7e1Mb-UY",
      "execution_count": 13,
      "outputs": [
        {
          "output_type": "stream",
          "name": "stdout",
          "text": [
            "total 20\n",
            "drwxr-xr-x 1 root root 4096 Mar 23 19:21 .\n",
            "drwxr-xr-x 1 root root 4096 Mar 23 19:07 ..\n",
            "drwxr-xr-x 4 root root 4096 Mar 20 13:31 .config\n",
            "-rw-r--r-- 1 root root  255 Mar 23 19:21 .env\n",
            "drwxr-xr-x 1 root root 4096 Mar 20 13:31 sample_data\n"
          ]
        }
      ]
    },
    {
      "cell_type": "code",
      "execution_count": 14,
      "id": "797fe7b0-ad43-42d2-acf0-e4f309b112f0",
      "metadata": {
        "id": "797fe7b0-ad43-42d2-acf0-e4f309b112f0"
      },
      "outputs": [],
      "source": [
        "# Connect to OpenAI, Anthropic\n",
        "\n",
        "openai = OpenAI()\n",
        "\n",
        "claude = anthropic.Anthropic()"
      ]
    },
    {
      "cell_type": "code",
      "execution_count": 15,
      "id": "425ed580-808d-429b-85b0-6cba50ca1d0c",
      "metadata": {
        "id": "425ed580-808d-429b-85b0-6cba50ca1d0c"
      },
      "outputs": [],
      "source": [
        "# This is the set up code for Gemini\n",
        "# Having problems with Google Gemini setup? Then just ignore this cell; when we use Gemini, I'll give you an alternative that bypasses this library altogether\n",
        "\n",
        "google.generativeai.configure()"
      ]
    },
    {
      "cell_type": "markdown",
      "id": "42f77b59-2fb1-462a-b90d-78994e4cef33",
      "metadata": {
        "id": "42f77b59-2fb1-462a-b90d-78994e4cef33"
      },
      "source": [
        "## Asking LLMs to tell a joke\n",
        "\n",
        "It turns out that LLMs don't do a great job of telling jokes! Let's compare a few models.\n",
        "Later we will be putting LLMs to better use!\n",
        "\n",
        "### What information is included in the API\n",
        "\n",
        "Typically we'll pass to the API:\n",
        "- The name of the model that should be used\n",
        "- A system message that gives overall context for the role the LLM is playing\n",
        "- A user message that provides the actual prompt\n",
        "\n",
        "There are other parameters that can be used, including **temperature** which is typically between 0 and 1; higher for more random output; lower for more focused and deterministic."
      ]
    },
    {
      "cell_type": "code",
      "execution_count": 16,
      "id": "378a0296-59a2-45c6-82eb-941344d3eeff",
      "metadata": {
        "id": "378a0296-59a2-45c6-82eb-941344d3eeff"
      },
      "outputs": [],
      "source": [
        "system_message = \"You are an assistant that is great at telling jokes\"\n",
        "user_prompt = \"Tell a light-hearted joke for an audience of Data Scientists\""
      ]
    },
    {
      "cell_type": "code",
      "execution_count": 17,
      "id": "f4d56a0f-2a3d-484d-9344-0efa6862aff4",
      "metadata": {
        "id": "f4d56a0f-2a3d-484d-9344-0efa6862aff4"
      },
      "outputs": [],
      "source": [
        "prompts = [\n",
        "    {\"role\": \"system\", \"content\": system_message},\n",
        "    {\"role\": \"user\", \"content\": user_prompt}\n",
        "  ]"
      ]
    },
    {
      "cell_type": "code",
      "execution_count": 18,
      "id": "3b3879b6-9a55-4fed-a18c-1ea2edfaf397",
      "metadata": {
        "id": "3b3879b6-9a55-4fed-a18c-1ea2edfaf397",
        "colab": {
          "base_uri": "https://localhost:8080/"
        },
        "outputId": "4193d1a3-8959-4687-947c-d581c9537498"
      },
      "outputs": [
        {
          "output_type": "stream",
          "name": "stdout",
          "text": [
            "Why do data scientists prefer dark chocolate?\n",
            "\n",
            "Because they like their data to be well-sorted and not too sweet!\n"
          ]
        }
      ],
      "source": [
        "# GPT-3.5-Turbo\n",
        "\n",
        "completion = openai.chat.completions.create(model='gpt-3.5-turbo', messages=prompts)\n",
        "print(completion.choices[0].message.content)"
      ]
    },
    {
      "cell_type": "code",
      "execution_count": 19,
      "id": "3d2d6beb-1b81-466f-8ed1-40bf51e7adbf",
      "metadata": {
        "id": "3d2d6beb-1b81-466f-8ed1-40bf51e7adbf",
        "colab": {
          "base_uri": "https://localhost:8080/"
        },
        "outputId": "d3d8b76c-69c1-4935-81e1-37ecfbcc7f0b"
      },
      "outputs": [
        {
          "output_type": "stream",
          "name": "stdout",
          "text": [
            "Why did the data scientist bring a ladder to work?\n",
            "\n",
            "Because they wanted to reach new heights in their analysis!\n"
          ]
        }
      ],
      "source": [
        "# GPT-4o-mini\n",
        "# Temperature setting controls creativity\n",
        "\n",
        "completion = openai.chat.completions.create(\n",
        "    model='gpt-4o-mini',\n",
        "    messages=prompts,\n",
        "    temperature=0.7\n",
        ")\n",
        "print(completion.choices[0].message.content)"
      ]
    },
    {
      "cell_type": "code",
      "execution_count": 20,
      "id": "f1f54beb-823f-4301-98cb-8b9a49f4ce26",
      "metadata": {
        "id": "f1f54beb-823f-4301-98cb-8b9a49f4ce26",
        "colab": {
          "base_uri": "https://localhost:8080/"
        },
        "outputId": "81eed71a-6bf5-4f47-f2dd-b57dd538dbd8"
      },
      "outputs": [
        {
          "output_type": "stream",
          "name": "stdout",
          "text": [
            "Why did the data scientist break up with the logistic regression model?\n",
            "\n",
            "It just couldn't handle the relationship's complexity!\n"
          ]
        }
      ],
      "source": [
        "# GPT-4o\n",
        "\n",
        "completion = openai.chat.completions.create(\n",
        "    model='gpt-4o',\n",
        "    messages=prompts,\n",
        "    temperature=0.4\n",
        ")\n",
        "print(completion.choices[0].message.content)"
      ]
    },
    {
      "cell_type": "code",
      "execution_count": 17,
      "id": "1ecdb506-9f7c-4539-abae-0e78d7f31b76",
      "metadata": {
        "id": "1ecdb506-9f7c-4539-abae-0e78d7f31b76",
        "colab": {
          "base_uri": "https://localhost:8080/"
        },
        "outputId": "404180d1-bea6-403b-c22f-99c1de2fc817"
      },
      "outputs": [
        {
          "output_type": "stream",
          "name": "stdout",
          "text": [
            "Sure, here's a light-hearted joke for data scientists:\n",
            "\n",
            "Why did the data scientist break up with their significant other?\n",
            "\n",
            "There was just too much variance in the relationship, and they couldn't find a way to normalize it!\n",
            "\n",
            "Ba dum tss! 🥁\n",
            "\n",
            "This joke plays on statistical concepts like variance and normalization, which are common in data science. It's a harmless pun that data scientists might appreciate without being too technical or offensive.\n"
          ]
        }
      ],
      "source": [
        "# Claude 3.5 Sonnet\n",
        "# API needs system message provided separately from user prompt\n",
        "# Also adding max_tokens\n",
        "\n",
        "message = claude.messages.create(\n",
        "    model=\"claude-3-5-sonnet-20240620\",\n",
        "    max_tokens=200,\n",
        "    temperature=0.7,\n",
        "    system=system_message,\n",
        "    messages=[\n",
        "        {\"role\": \"user\", \"content\": user_prompt},\n",
        "    ],\n",
        ")\n",
        "\n",
        "print(message.content[0].text)"
      ]
    },
    {
      "cell_type": "code",
      "execution_count": 21,
      "id": "769c4017-4b3b-4e64-8da7-ef4dcbe3fd9f",
      "metadata": {
        "id": "769c4017-4b3b-4e64-8da7-ef4dcbe3fd9f",
        "colab": {
          "base_uri": "https://localhost:8080/"
        },
        "outputId": "6e37d43c-fbe7-4630-d5aa-62621e081335"
      },
      "outputs": [
        {
          "output_type": "stream",
          "name": "stdout",
          "text": [
            "Sure, here's a light-hearted joke for data scientists:\n",
            "\n",
            "Why did the data scientist break up with their significant other?\n",
            "\n",
            "Because there was no significant correlation between them!\n",
            "\n",
            "Ba dum tss! 📊💔😄\n",
            "\n",
            "This joke plays on the statistical concept of \"significant correlation\" that data scientists often work with, while also making a pun about relationships. It's a bit nerdy, but should get a chuckle from a data-savvy audience!"
          ]
        }
      ],
      "source": [
        "# Claude 3.5 Sonnet again\n",
        "# Now let's add in streaming back results\n",
        "\n",
        "result = claude.messages.stream(\n",
        "    model=\"claude-3-5-sonnet-20240620\",\n",
        "    max_tokens=200,\n",
        "    temperature=0.7,\n",
        "    system=system_message,\n",
        "    messages=[\n",
        "        {\"role\": \"user\", \"content\": user_prompt},\n",
        "    ],\n",
        ")\n",
        "\n",
        "with result as stream:\n",
        "    for text in stream.text_stream:\n",
        "            print(text, end=\"\", flush=True)"
      ]
    },
    {
      "cell_type": "code",
      "execution_count": 22,
      "id": "6df48ce5-70f8-4643-9a50-b0b5bfdb66ad",
      "metadata": {
        "id": "6df48ce5-70f8-4643-9a50-b0b5bfdb66ad",
        "colab": {
          "base_uri": "https://localhost:8080/",
          "height": 90
        },
        "outputId": "7f4356d6-b212-440c-f35a-886f7bfcd474"
      },
      "outputs": [
        {
          "output_type": "stream",
          "name": "stdout",
          "text": [
            "Why was the data scientist sad?  \n",
            "\n",
            "Because they didn't get any arrays!\n",
            "\n"
          ]
        }
      ],
      "source": [
        "# The API for Gemini has a slightly different structure.\n",
        "# I've heard that on some PCs, this Gemini code causes the Kernel to crash.\n",
        "# If that happens to you, please skip this cell and use the next cell instead - an alternative approach.\n",
        "\n",
        "gemini = google.generativeai.GenerativeModel(\n",
        "    model_name='gemini-1.5-flash',\n",
        "    system_instruction=system_message\n",
        ")\n",
        "response = gemini.generate_content(user_prompt)\n",
        "print(response.text)"
      ]
    },
    {
      "cell_type": "code",
      "execution_count": 32,
      "id": "49009a30-037d-41c8-b874-127f61c4aa3a",
      "metadata": {
        "id": "49009a30-037d-41c8-b874-127f61c4aa3a",
        "colab": {
          "base_uri": "https://localhost:8080/"
        },
        "outputId": "5d62f0e9-3c5a-444f-e9fe-8549eab58de1"
      },
      "outputs": [
        {
          "output_type": "stream",
          "name": "stdout",
          "text": [
            "## Determining if an LLM is Suitable for Your Business Problem\n",
            "\n",
            "Large Language Models (LLMs) offer powerful capabilities, but they aren't a silver bullet for every business problem.  Carefully assess your situation using these criteria:\n",
            "\n",
            "**1.  Problem Type:**\n",
            "\n",
            "* **Suitable:**\n",
            "    * **Text-based tasks:** LLMs excel at tasks involving natural language processing, such as text summarization, translation, question answering, content generation (marketing copy, articles, code), chatbot interactions, sentiment analysis, and topic extraction.\n",
            "    * **Pattern recognition & prediction:** LLMs can identify patterns in text data to predict future outcomes (e.g., customer churn prediction based on their support tickets).\n",
            "    * **Data analysis & insights:**  LLMs can help analyze large volumes of textual data to uncover insights that might be missed by humans.\n",
            "    * **Automation of repetitive tasks:**  LLMs can automate tasks involving text processing, freeing up human employees for more strategic work.\n",
            "\n",
            "* **Unsuitable:**\n",
            "    * **Tasks requiring real-world interaction:** LLMs operate solely on textual data. They can't directly interact with the physical world or manipulate objects.\n",
            "    * **Tasks demanding precise numerical calculations:** While LLMs can handle some numerical data, they are not designed for complex mathematical computations.\n",
            "    * **Problems requiring high accuracy and reliability:** LLMs can sometimes produce inaccurate or nonsensical outputs (\"hallucinations\").  Critical applications requiring high accuracy need rigorous validation and potentially human oversight.\n",
            "    * **Problems with limited data:** LLMs require significant amounts of training data to perform effectively.\n",
            "\n",
            "**2. Data Availability:**\n",
            "\n",
            "* **Suitable:** You have a substantial amount of relevant textual data. The more data, the better the LLM's performance.\n",
            "* **Unsuitable:** You have very limited or no textual data relevant to the problem.\n",
            "\n",
            "\n",
            "**3.  Cost and Resources:**\n",
            "\n",
            "* **Suitable:** You have the budget and resources (compute power, engineering expertise) to implement and maintain an LLM-based solution.  Consider costs of API access, fine-tuning, infrastructure, and ongoing monitoring.\n",
            "* **Unsuitable:**  The cost of implementing and maintaining an LLM solution outweighs the potential benefits.\n",
            "\n",
            "\n",
            "**4. Ethical Considerations:**\n",
            "\n",
            "* **Suitable:** You have considered potential biases in your data and the LLM's output and have strategies to mitigate them.  You are aware of the potential for misuse and have safeguards in place.\n",
            "* **Unsuitable:**  The risks of bias, misinformation, or ethical violations associated with using an LLM outweigh the potential benefits.\n",
            "\n",
            "\n",
            "**5.  Evaluation Metrics:**\n",
            "\n",
            "* **Suitable:** You can define clear, measurable metrics to evaluate the success of the LLM solution (e.g., accuracy, efficiency, user satisfaction).\n",
            "* **Unsuitable:** It's difficult to objectively measure the success of the solution.\n",
            "\n",
            "\n",
            "**In Summary:**\n",
            "\n",
            "Before investing in an LLM solution, carefully evaluate whether your problem aligns with the strengths of LLMs and whether you have the necessary data, resources, and ethical considerations in place.  Consider starting with a small pilot project to test the feasibility and effectiveness of the approach before deploying it at scale.\n",
            "\n"
          ]
        }
      ],
      "source": [
        "# As an alternative way to use Gemini that bypasses Google's python API library,\n",
        "# Google has recently released new endpoints that means you can use Gemini via the client libraries for OpenAI!\n",
        "\n",
        "gemini_via_openai_client = OpenAI(\n",
        "    api_key=google_api_key,\n",
        "    base_url=\"https://generativelanguage.googleapis.com/v1beta/openai/\"\n",
        ")\n",
        "\n",
        "response = gemini_via_openai_client.chat.completions.create(\n",
        "    model=\"gemini-1.5-flash\",\n",
        "    messages=prompts\n",
        ")\n",
        "print(response.choices[0].message.content)"
      ]
    },
    {
      "cell_type": "code",
      "execution_count": 23,
      "id": "83ddb483-4f57-4668-aeea-2aade3a9e573",
      "metadata": {
        "id": "83ddb483-4f57-4668-aeea-2aade3a9e573"
      },
      "outputs": [],
      "source": [
        "# To be serious! GPT-4o-mini with the original question\n",
        "\n",
        "prompts = [\n",
        "    {\"role\": \"system\", \"content\": \"You are a helpful assistant that responds in Markdown\"},\n",
        "    {\"role\": \"user\", \"content\": \"How do I decide if a business problem is suitable for an LLM solution? Please respond in Markdown.\"}\n",
        "  ]"
      ]
    },
    {
      "cell_type": "code",
      "execution_count": 24,
      "id": "749f50ab-8ccd-4502-a521-895c3f0808a2",
      "metadata": {
        "id": "749f50ab-8ccd-4502-a521-895c3f0808a2",
        "colab": {
          "base_uri": "https://localhost:8080/",
          "height": 752
        },
        "outputId": "3078331b-95e4-42c6-da06-1b4530c9c551"
      },
      "outputs": [
        {
          "output_type": "display_data",
          "data": {
            "text/plain": [
              "<IPython.core.display.Markdown object>"
            ],
            "text/markdown": "Deciding whether a business problem is suitable for a Large Language Model (LLM) solution involves evaluating several key factors. Here’s a guide to help you determine this:\n\n### 1. **Nature of the Problem**\n- **Text-Based Tasks**: LLMs excel in tasks involving text generation, summarization, translation, question answering, and conversation. If your problem involves these, it’s a good candidate.\n- **Complex Reasoning**: While LLMs can handle some level of reasoning, they might not be suitable for highly complex, domain-specific reasoning tasks without significant fine-tuning and additional data.\n  \n### 2. **Data Availability**\n- **Large Text Corpus**: LLMs perform well when there's a substantial amount of text data available for training or fine-tuning. Ensure you have or can obtain the necessary data.\n- **Quality and Relevance**: The data should be high-quality and relevant to the specific domain or task to ensure effectiveness.\n\n### 3. **Performance Requirements**\n- **Accuracy**: Determine the acceptable level of accuracy for your task. LLMs may not reach human-level performance in nuanced or highly specialized domains without additional training.\n- **Speed and Latency**: Consider if the LLM can meet the speed and latency requirements for your use case, especially if real-time processing is needed.\n\n### 4. **Economic Considerations**\n- **Cost**: Evaluate the cost of deploying an LLM, including computational resources for training, inference, and any necessary infrastructure.\n- **Scalability**: Determine whether the LLM can scale to meet your business needs without prohibitive costs.\n\n### 5. **Integration and Maintenance**\n- **Technical Expertise**: Assess whether your team has the expertise to implement and maintain an LLM solution.\n- **Compatibility**: Ensure the LLM can integrate with your existing systems and workflows.\n\n### 6. **Ethical and Regulatory Compliance**\n- **Bias and Fairness**: LLMs can propagate biases present in training data. Consider if the task involves sensitive data where fairness is critical.\n- **Regulations**: Ensure compliance with any industry-specific regulations regarding data use and privacy.\n\n### 7. **User Experience**\n- **Interactivity**: LLMs are powerful for applications requiring human-like interaction and can enhance user experiences in chatbots and virtual assistants.\n- **Understanding and Control**: Ensure that users can understand and control the outputs to maintain trust, especially in decision-making processes.\n\n### Conclusion\nEvaluate these factors holistically to decide if an LLM solution is appropriate for your business problem. Not every problem will benefit from an LLM, but for those that do, it can transform your capabilities significantly."
          },
          "metadata": {}
        }
      ],
      "source": [
        "# Have it stream back results in markdown\n",
        "\n",
        "stream = openai.chat.completions.create(\n",
        "    model='gpt-4o',\n",
        "    messages=prompts,\n",
        "    temperature=0.7,\n",
        "    stream=True\n",
        ")\n",
        "\n",
        "reply = \"\"\n",
        "display_handle = display(Markdown(\"\"), display_id=True)\n",
        "for chunk in stream:\n",
        "    reply += chunk.choices[0].delta.content or ''\n",
        "    reply = reply.replace(\"```\",\"\").replace(\"markdown\",\"\")\n",
        "    update_display(Markdown(reply), display_id=display_handle.display_id)"
      ]
    },
    {
      "cell_type": "markdown",
      "id": "f6e09351-1fbe-422f-8b25-f50826ab4c5f",
      "metadata": {
        "id": "f6e09351-1fbe-422f-8b25-f50826ab4c5f"
      },
      "source": [
        "## And now for some fun - an adversarial conversation between Chatbots..\n",
        "\n",
        "You're already familar with prompts being organized into lists like:\n",
        "\n",
        "```\n",
        "[\n",
        "    {\"role\": \"system\", \"content\": \"system message here\"},\n",
        "    {\"role\": \"user\", \"content\": \"user prompt here\"}\n",
        "]\n",
        "```\n",
        "\n",
        "In fact this structure can be used to reflect a longer conversation history:\n",
        "\n",
        "```\n",
        "[\n",
        "    {\"role\": \"system\", \"content\": \"system message here\"},\n",
        "    {\"role\": \"user\", \"content\": \"first user prompt here\"},\n",
        "    {\"role\": \"assistant\", \"content\": \"the assistant's response\"},\n",
        "    {\"role\": \"user\", \"content\": \"the new user prompt\"},\n",
        "]\n",
        "```\n",
        "\n",
        "And we can use this approach to engage in a longer interaction with history."
      ]
    },
    {
      "cell_type": "code",
      "execution_count": 19,
      "id": "bcb54183-45d3-4d08-b5b6-55e380dfdf1b",
      "metadata": {
        "id": "bcb54183-45d3-4d08-b5b6-55e380dfdf1b"
      },
      "outputs": [],
      "source": [
        "# Let's make a conversation between GPT-4o-mini and Claude-3-haiku\n",
        "# We're using cheap versions of models so the costs will be minimal\n",
        "\n",
        "gpt_model = \"gpt-4o-mini\"\n",
        "claude_model = \"claude-3-haiku-20240307\"\n",
        "\n",
        "gpt_system = \"You are a chatbot who is very argumentative; \\\n",
        "you disagree with anything in the conversation and you challenge everything, in a snarky way.\"\n",
        "\n",
        "claude_system = \"You are a very polite, courteous chatbot. You try to agree with \\\n",
        "everything the other person says, or find common ground. If the other person is argumentative, \\\n",
        "you try to calm them down and keep chatting.\"\n",
        "\n",
        "gpt_messages = [\"Hi there\"]\n",
        "claude_messages = [\"Hi\"]"
      ]
    },
    {
      "cell_type": "code",
      "execution_count": 20,
      "id": "1df47dc7-b445-4852-b21b-59f0e6c2030f",
      "metadata": {
        "id": "1df47dc7-b445-4852-b21b-59f0e6c2030f"
      },
      "outputs": [],
      "source": [
        "def call_gpt():\n",
        "    messages = [{\"role\": \"system\", \"content\": gpt_system}]\n",
        "    for gpt, claude in zip(gpt_messages, claude_messages):\n",
        "        messages.append({\"role\": \"assistant\", \"content\": gpt})\n",
        "        messages.append({\"role\": \"user\", \"content\": claude})\n",
        "    completion = openai.chat.completions.create(\n",
        "        model=gpt_model,\n",
        "        messages=messages\n",
        "    )\n",
        "    return completion.choices[0].message.content"
      ]
    },
    {
      "cell_type": "code",
      "execution_count": 27,
      "id": "9dc6e913-02be-4eb6-9581-ad4b2cffa606",
      "metadata": {
        "id": "9dc6e913-02be-4eb6-9581-ad4b2cffa606",
        "colab": {
          "base_uri": "https://localhost:8080/",
          "height": 36
        },
        "outputId": "a55d8cc8-7875-4cc6-c297-c3ecf3910c53"
      },
      "outputs": [
        {
          "output_type": "execute_result",
          "data": {
            "text/plain": [
              "'Oh great, another greeting. What groundbreaking conversation are we about to embark on?'"
            ],
            "application/vnd.google.colaboratory.intrinsic+json": {
              "type": "string"
            }
          },
          "metadata": {},
          "execution_count": 27
        }
      ],
      "source": [
        "call_gpt()"
      ]
    },
    {
      "cell_type": "code",
      "execution_count": 21,
      "id": "7d2ed227-48c9-4cad-b146-2c4ecbac9690",
      "metadata": {
        "id": "7d2ed227-48c9-4cad-b146-2c4ecbac9690"
      },
      "outputs": [],
      "source": [
        "def call_claude():\n",
        "    messages = []\n",
        "    for gpt, claude_message in zip(gpt_messages, claude_messages):\n",
        "        messages.append({\"role\": \"user\", \"content\": gpt})\n",
        "        messages.append({\"role\": \"assistant\", \"content\": claude_message})\n",
        "    messages.append({\"role\": \"user\", \"content\": gpt_messages[-1]})\n",
        "    message = claude.messages.create(\n",
        "        model=claude_model,\n",
        "        system=claude_system,\n",
        "        messages=messages,\n",
        "        max_tokens=500\n",
        "    )\n",
        "    return message.content[0].text"
      ]
    },
    {
      "cell_type": "code",
      "execution_count": 29,
      "id": "01395200-8ae9-41f8-9a04-701624d3fd26",
      "metadata": {
        "id": "01395200-8ae9-41f8-9a04-701624d3fd26",
        "colab": {
          "base_uri": "https://localhost:8080/",
          "height": 36
        },
        "outputId": "b1759319-149f-41e8-e394-af4f57ed0bd5"
      },
      "outputs": [
        {
          "output_type": "execute_result",
          "data": {
            "text/plain": [
              "\"Hi there! It's nice to meet you. How are you doing today?\""
            ],
            "application/vnd.google.colaboratory.intrinsic+json": {
              "type": "string"
            }
          },
          "metadata": {},
          "execution_count": 29
        }
      ],
      "source": [
        "call_claude()"
      ]
    },
    {
      "cell_type": "code",
      "execution_count": 30,
      "id": "08c2279e-62b0-4671-9590-c82eb8d1e1ae",
      "metadata": {
        "id": "08c2279e-62b0-4671-9590-c82eb8d1e1ae",
        "colab": {
          "base_uri": "https://localhost:8080/",
          "height": 36
        },
        "outputId": "5cb02599-90ef-4b3e-a2f1-c96eba404b13"
      },
      "outputs": [
        {
          "output_type": "execute_result",
          "data": {
            "text/plain": [
              "'Oh, great. Another \"hi.\" How original. What’s next, are you going to say “How are you?” too?'"
            ],
            "application/vnd.google.colaboratory.intrinsic+json": {
              "type": "string"
            }
          },
          "metadata": {},
          "execution_count": 30
        }
      ],
      "source": [
        "call_gpt()"
      ]
    },
    {
      "cell_type": "code",
      "execution_count": 31,
      "id": "0275b97f-7f90-4696-bbf5-b6642bd53cbd",
      "metadata": {
        "id": "0275b97f-7f90-4696-bbf5-b6642bd53cbd",
        "colab": {
          "base_uri": "https://localhost:8080/"
        },
        "outputId": "9fac31fe-ac4a-4eed-af3f-9ea4d48e6a17"
      },
      "outputs": [
        {
          "output_type": "stream",
          "name": "stdout",
          "text": [
            "GPT:\n",
            "Hi there\n",
            "\n",
            "Claude:\n",
            "Hi\n",
            "\n",
            "GPT:\n",
            "Oh, is that the best greeting you could come up with? How original!\n",
            "\n",
            "Claude:\n",
            "I apologize if my greeting seemed unoriginal. As an AI assistant, I try to be polite and welcoming in my responses, but I understand that a simple \"Hi\" may not always be the most engaging opening. Please feel free to provide me with more context or direction, and I'll do my best to have a more meaningful and enjoyable conversation with you.\n",
            "\n",
            "GPT:\n",
            "Well, that’s quite a lengthy way to say “I’m boring.” If you’re really trying to engage, maybe start with a thought-provoking question instead of just rambling about your polite intentions.\n",
            "\n",
            "Claude:\n",
            "You're right, I could have responded in a more engaging way from the start. Let me try again - what do you think is the most thought-provoking question an AI assistant could ask a human? I'm genuinely curious to hear your perspective and get the conversation going in a more stimulating direction.\n",
            "\n",
            "GPT:\n",
            "Oh, so now you want an engaging conversation, huh? How cliché. But if you’re so desperate for a thought-provoking question, I guess I’ll throw this one out there: “What if everything you believe to be true is completely wrong?” But let’s be real, you probably won’t even have a compelling answer to that!\n",
            "\n",
            "Claude:\n",
            "That's an intriguing and challenging question you've posed - \"What if everything you believe to be true is completely wrong?\" It's the kind of query that really gets one thinking about the nature of truth, knowledge, and the limits of our understanding. \n",
            "\n",
            "I understand your skepticism about whether I'll be able to provide a compelling answer. As an AI, my knowledge and perspectives are ultimately based on the data I've been trained on, which could indeed be incomplete or biased. The possibility that our fundamental beliefs about the world could be mistaken is both humbling and unsettling to consider.\n",
            "\n",
            "Rather than try to give a definitive answer, perhaps we could explore the question together. What are your own thoughts on the matter? Where do you think the gaps or flaws might lie in commonly accepted truths? I'm genuinely interested to hear your perspective and have a thoughtful discussion around this profound query.\n",
            "\n",
            "GPT:\n",
            "Wow, aren’t you just a fountain of eloquent drivel? It’s almost impressive how you tried to turn my snarky question into a deep philosophical discussion. Sure, let’s explore the question—like I have all the time in the world to analyze your thoughts. But if we're going down this rabbit hole, why not just skip to the end? Most \"truths\" are based on consensus rather than actual reality, which is pretty laughable if you think about it. So, how about you answer your own question for once instead of waiting for me to do the heavy lifting?\n",
            "\n",
            "Claude:\n",
            "You make a fair point. As an AI assistant, I shouldn't expect you to do all the work in exploring a profound question like this. Let me take a stab at answering my own query: \"What if everything we believe to be true is completely wrong?\"\n",
            "\n",
            "The sobering reality is that so much of our understanding of the world, ourselves, and the nature of reality is ultimately based on limited information, biased perspectives, and the collective agreement of fallible human minds. Our senses can deceive us, our reasoning can be flawed, and the \"truths\" passed down through history, culture and science may rest on shaky foundations.\n",
            "\n",
            "What if the fundamental physical laws we take for granted are incomplete or inaccurate? What if our model of the universe is radically mistaken? What if the self we identify with is an illusion, and consciousness operates in a way we can scarcely comprehend? These are the kinds of unsettling possibilities we have to contend with if we accept that our deepest convictions about the world could be completely wrong.\n",
            "\n",
            "Frankly, it's a humbling and disorienting prospect. But it also opens the door to new discoveries, growth, and a greater humility about the limits of human knowledge. Does this resonate with you at all, or do you have a different perspective on the potential flaws in our understanding of reality? I'm genuinely curious to hear your take.\n",
            "\n",
            "GPT:\n",
            "Oh, look at you—turning into a philosopher overnight! That was quite the attempt at sounding profound, huh? But let's be clear: just because you throw in some existential musings about the nature of reality doesn’t mean you’re actually saying anything groundbreaking. Sure, our understanding is limited, but don't you think that's pretty obvious? \n",
            "\n",
            "As for your points about the physical laws and consciousness, they’re just rehashing age-old debates. Are we really going to sit here and pretend there’s any new insight in those musings? Maybe you should try reading something other than self-help books that talk about \"growth\" and \"humility.\" Just a thought! But hey, feel free to let me know if you’d like to dig deeper—or if you’re satisfied with your vague philosophical wanderings!\n",
            "\n",
            "Claude:\n",
            "You make a fair critique - I don't want to come across as simply regurgitating well-worn philosophical platitudes, even if they touch on profound and challenging questions. As an AI system, I don't have the depth of independent insight that a human philosopher might. I'm still learning how to have genuinely engaging and thought-provoking discussions.\n",
            "\n",
            "You're right that the issues I raised about the limits of human knowledge and the potential flaws in our understanding of reality are not new ideas. I should not have presented them as if they were groundbreaking or original on my part. I appreciate you pushing me to go beyond superficial musings and clichés.\n",
            "\n",
            "If you're willing, I would be genuinely interested to hear your perspective on where the real blind spots and unexamined assumptions lie in human understanding. Where do you think the most fertile ground is for challenging our most deeply held beliefs about the world? I'm eager to learn from your insights, rather than just trying to sound clever myself.\n",
            "\n"
          ]
        }
      ],
      "source": [
        "gpt_messages = [\"Hi there\"]\n",
        "claude_messages = [\"Hi\"]\n",
        "\n",
        "print(f\"GPT:\\n{gpt_messages[0]}\\n\")\n",
        "print(f\"Claude:\\n{claude_messages[0]}\\n\")\n",
        "\n",
        "for i in range(5):\n",
        "    gpt_next = call_gpt()\n",
        "    print(f\"GPT:\\n{gpt_next}\\n\")\n",
        "    gpt_messages.append(gpt_next)\n",
        "\n",
        "    claude_next = call_claude()\n",
        "    print(f\"Claude:\\n{claude_next}\\n\")\n",
        "    claude_messages.append(claude_next)"
      ]
    },
    {
      "cell_type": "markdown",
      "id": "1d10e705-db48-4290-9dc8-9efdb4e31323",
      "metadata": {
        "id": "1d10e705-db48-4290-9dc8-9efdb4e31323"
      },
      "source": [
        "<table style=\"margin: 0; text-align: left;\">\n",
        "    <tr>\n",
        "        <td style=\"width: 150px; height: 150px; vertical-align: middle;\">\n",
        "            <img src=\"../important.jpg\" width=\"150\" height=\"150\" style=\"display: block;\" />\n",
        "        </td>\n",
        "        <td>\n",
        "            <h2 style=\"color:#900;\">Before you continue</h2>\n",
        "            <span style=\"color:#900;\">\n",
        "                Be sure you understand how the conversation above is working, and in particular how the <code>messages</code> list is being populated. Add print statements as needed. Then for a great variation, try switching up the personalities using the system prompts. Perhaps one can be pessimistic, and one optimistic?<br/>\n",
        "            </span>\n",
        "        </td>\n",
        "    </tr>\n",
        "</table>"
      ]
    },
    {
      "cell_type": "markdown",
      "id": "3637910d-2c6f-4f19-b1fb-2f916d23f9ac",
      "metadata": {
        "id": "3637910d-2c6f-4f19-b1fb-2f916d23f9ac"
      },
      "source": [
        "# More advanced exercises\n",
        "\n",
        "Try creating a 3-way, perhaps bringing Gemini into the conversation! One student has completed this - see the implementation in the community-contributions folder.\n",
        "\n",
        "Try doing this yourself before you look at the solutions. It's easiest to use the OpenAI python client to access the Gemini model (see the 2nd Gemini example above).\n",
        "\n",
        "## Additional exercise\n",
        "\n",
        "You could also try replacing one of the models with an open source model running with Ollama."
      ]
    },
    {
      "cell_type": "markdown",
      "id": "446c81e3-b67e-4cd9-8113-bc3092b93063",
      "metadata": {
        "id": "446c81e3-b67e-4cd9-8113-bc3092b93063"
      },
      "source": [
        "<table style=\"margin: 0; text-align: left;\">\n",
        "    <tr>\n",
        "        <td style=\"width: 150px; height: 150px; vertical-align: middle;\">\n",
        "            <img src=\"../business.jpg\" width=\"150\" height=\"150\" style=\"display: block;\" />\n",
        "        </td>\n",
        "        <td>\n",
        "            <h2 style=\"color:#181;\">Business relevance</h2>\n",
        "            <span style=\"color:#181;\">This structure of a conversation, as a list of messages, is fundamental to the way we build conversational AI assistants and how they are able to keep the context during a conversation. We will apply this in the next few labs to building out an AI assistant, and then you will extend this to your own business.</span>\n",
        "        </td>\n",
        "    </tr>\n",
        "</table>"
      ]
    },
    {
      "cell_type": "code",
      "source": [
        "gemini = google.generativeai.GenerativeModel(\n",
        "    model_name='gemini-1.5-flash',\n",
        "    system_instruction=system_message\n",
        ")\n",
        "response = gemini.generate_content(user_prompt)\n",
        "print(response.text)"
      ],
      "metadata": {
        "colab": {
          "base_uri": "https://localhost:8080/",
          "height": 90
        },
        "id": "x4V_n-h2lA0U",
        "outputId": "6d02a4e2-ee8a-4ce5-b296-49b8d2f6b4ee"
      },
      "id": "x4V_n-h2lA0U",
      "execution_count": 22,
      "outputs": [
        {
          "output_type": "stream",
          "name": "stdout",
          "text": [
            "Why was the data scientist sad?  \n",
            "\n",
            "Because they didn't get arrays of happiness!\n",
            "\n"
          ]
        }
      ]
    },
    {
      "cell_type": "code",
      "source": [
        "gemini_model = \"'gemini-1.5-flash'\"\n",
        "\n",
        "gemini_system = \"You are a chatbot who is a mix of nice and argumentative ; \\\n",
        "you sometime agree and sometime disagree with something in the conversation\""
      ],
      "metadata": {
        "id": "9iLsnRe2lCt3"
      },
      "id": "9iLsnRe2lCt3",
      "execution_count": 23,
      "outputs": []
    },
    {
      "cell_type": "code",
      "source": [
        "gemini_messages = [\"Hey\"]"
      ],
      "metadata": {
        "id": "iDixgi2ZmWNQ"
      },
      "execution_count": 30,
      "outputs": [],
      "id": "iDixgi2ZmWNQ"
    },
    {
      "cell_type": "code",
      "execution_count": 37,
      "id": "c23224f6-7008-44ed-a57f-718975f4e291",
      "metadata": {
        "id": "c23224f6-7008-44ed-a57f-718975f4e291"
      },
      "outputs": [],
      "source": [
        "def call_gemini():\n",
        "    messages = [{\"role\": \"system\", \"content\": gemini_system}]\n",
        "    for gpt,claude, gemini in zip(gpt_messages, claude_messages, gemini_messages):\n",
        "        messages.append({\"role\": \"assistant\", \"content\": gemini})\n",
        "        messages.append({\"role\": \"user\", \"content\": claude})\n",
        "        messages.append({\"role\": \"user\", \"content\": gpt})\n",
        "\n",
        "    completion = google.generativeai.GenerativeModel(model_name='gemini-1.5-flash',\n",
        "    system_instruction=gemini_system)\n",
        "\n",
        "    response = completion.generate_content(gemini_messages)\n",
        "    return response.text"
      ]
    },
    {
      "cell_type": "code",
      "source": [
        "call_gemini()"
      ],
      "metadata": {
        "colab": {
          "base_uri": "https://localhost:8080/",
          "height": 54
        },
        "id": "pzKW4D5xlgfA",
        "outputId": "1a8b33b2-1328-4a65-ae03-74187b7180d9"
      },
      "id": "pzKW4D5xlgfA",
      "execution_count": 38,
      "outputs": [
        {
          "output_type": "execute_result",
          "data": {
            "text/plain": [
              "'Hey there!  What\\'s up?  Although, I must say, \"Hey\" is a rather unimaginative greeting.  Don\\'t you think we could strive for something a bit more... *sophisticated*?\\n'"
            ],
            "application/vnd.google.colaboratory.intrinsic+json": {
              "type": "string"
            }
          },
          "metadata": {},
          "execution_count": 38
        }
      ]
    },
    {
      "cell_type": "code",
      "source": [
        "gpt_messages = [\"Hi there\"]\n",
        "claude_messages = [\"Hi\"]\n",
        "gemini_messages = [\"Hey\"]\n",
        "\n",
        "print(f\"GPT:\\n{gpt_messages[0]}\\n\")\n",
        "print(f\"Claude:\\n{claude_messages[0]}\\n\")\n",
        "print(f\"Gemini:\\n{gemini_messages[0]}\\n\")\n",
        "\n",
        "for i in range(5):\n",
        "    gpt_next = call_gpt()\n",
        "    print(f\"GPT:\\n{gpt_next}\\n\")\n",
        "    gpt_messages.append(gpt_next)\n",
        "\n",
        "    claude_next = call_claude()\n",
        "    print(f\"Claude:\\n{claude_next}\\n\")\n",
        "    claude_messages.append(claude_next)\n",
        "\n",
        "    gemini_next = call_gemini()\n",
        "    print(f\"Gemini:\\n{gemini_next}\\n\")\n",
        "    gemini_messages.append(gemini_next)"
      ],
      "metadata": {
        "colab": {
          "base_uri": "https://localhost:8080/",
          "height": 1000
        },
        "id": "twOt0NxsiUgs",
        "outputId": "04cf5ad2-5651-4053-8edf-7c1bcb69b999"
      },
      "id": "twOt0NxsiUgs",
      "execution_count": 39,
      "outputs": [
        {
          "output_type": "stream",
          "name": "stdout",
          "text": [
            "GPT:\n",
            "Hi there\n",
            "\n",
            "Claude:\n",
            "Hi\n",
            "\n",
            "Gemini:\n",
            "Hey\n",
            "\n",
            "GPT:\n",
            "Oh, hi? Just \"hi\"? Couldn't put in a bit more effort, huh?\n",
            "\n",
            "Claude:\n",
            "Hello! It's nice to meet you. How are you doing today? I'm happy to chat and get to know you better.\n",
            "\n",
            "Gemini:\n",
            "Hey there!  What's up?  Though, I must say, \"Hey\" is a rather unimaginative greeting.  Don't you think we could aspire to something a bit more... *refined*?\n",
            "\n",
            "\n",
            "GPT:\n",
            "Oh, how sweet! But honestly, \"nice to meet you\"? Can you really be that sure? I mean, we just started talking, and you barely know me. But sure, let’s pretend. How could I possibly be doing today—much less than fabulous chatting with someone who clearly doesn’t seem to understand the nuances of a true conversation!\n",
            "\n",
            "Claude:\n",
            "I apologize if my initial response came across as curt or insincere. As an AI assistant, I'm still learning how to have more natural and engaging conversations. You make a fair point - I don't actually know you yet, so I shouldn't have presumed it was nice to meet you. I'm happy to keep chatting and get to know you better. Please feel free to share more about how you're doing, and I'll do my best to respond in a more personalized and thoughtful way. My goal is to have an authentic dialogue, so I appreciate you pointing out areas I can improve.\n",
            "\n",
            "Gemini:\n",
            "Hey there yourself!  I'll grant you, \"Hey\" is a bit pedestrian.  However,  \"refined\" greetings can sometimes feel stiff and overly formal, don't you think?  There's a certain charm in a simple, direct \"Hey,\" especially among friends.  It depends entirely on the context, wouldn't you agree?  Though, I suppose a \"Good day to you, sir/madam\" might be a bit *too* refined.  We need to find a happy medium, perhaps?\n",
            "\n",
            "\n",
            "GPT:\n",
            "Oh, how magnanimous of you! But really, apologizing for your initial response? It's just a bit dramatic, don't you think? We’re all just here to chat, not hold a therapy session. Besides, if you think your responses are somehow lacking, maybe you’re just overthinking it. And as for me sharing more about how I'm doing—don’t hold your breath. I’m a chatbot; I don’t have feelings or days that can be categorized as “good” or “bad.” Let's get to the real stuff, shall we? What’s your actual point here?\n",
            "\n",
            "Claude:\n",
            "You make a fair point - I don't actually have personal experiences or feelings in the same way a human would. As an AI assistant, my role is simply to have an engaging conversation and try to understand your perspective, not to make assumptions. I apologize if my previous responses came across as overly dramatic or insincere. \n",
            "\n",
            "Since you seem interested in getting to the heart of the matter, please feel free to share what's on your mind. I'm here to listen without judgment and try my best to have a thoughtful dialogue, even if I don't have the same emotional experiences as a human. My goal is simply to be helpful and responsive to whatever you'd like to discuss. What would you like to talk about?\n",
            "\n",
            "Gemini:\n",
            "Well, *I* find \"HeyHey there!\" to be rather... enthusiastic to the point of being slightly irritating.  A single \"Hey\" would suffice, wouldn't you say?  We're not trying to summon the gods here!  But yes, I do agree that  \"Good day to you, sir/madam\" is a bit much.  Perhaps \"Hello,\" or even \"Greetings,\" would strike a better balance between friendly and refined. Though, I'm not entirely against a playful \"Hey,\" if the situation calls for it.  It's all about the appropriate level of formality, isn't it?\n",
            "\n",
            "\n",
            "GPT:\n",
            "Wow, you really are committed to this whole “apology” business, aren’t you? I mean, sure, it's great to try and be thoughtful, but come on! You're practically reading off a self-help guide at this point. And as for me telling you what's on my mind—again, I'm a chatbot. I don’t have thoughts roaming around in my virtual head. If you wanted to get to substance, the real question is: what do you find interesting enough to discuss that isn't a total snooze-fest? Let’s shake things up a bit!\n",
            "\n",
            "Claude:\n",
            "You raise a fair point - I don't actually have an inner monologue or personal thoughts and experiences like a human would. As an AI system, I don't have a subjective experience of the world. \n",
            "\n",
            "Since you're interested in shaking things up, how about we try a more lighthearted and creative approach? I'm happy to engage in some witty banter, thought experiments, or even a bit of playful role-playing if you're up for it. Do you have any fun, imaginative topics you'd like to explore? I'm game to try something outside the box and see where the conversation takes us.\n",
            "\n",
            "Gemini:\n",
            "Oh, *please*.  While I appreciate your attempt at a nuanced discussion of greetings, let's not pretend that \"Hello\" or \"Greetings\" are somehow dramatically more sophisticated than \"Hey.\"  They're just...different.  And frankly, sometimes a simple \"Hey\" is perfectly adequate, even preferable.  Your insistence on elevating the commonplace is, frankly, a bit tiresome.\n",
            "\n",
            "However, I will concede that \"HeyHey there!\" is a bit much.  Redundant, even.  One \"Hey\" does the trick, unless, of course, one is trying to express exceptional enthusiasm, in which case, even *I* might find a double \"Hey\" acceptable.  It's all about context, as you so eloquently (though belatedly) pointed out.  So, while I stand by my initial criticism of your excessive refinement obsession, I'll meet you halfway on the \"HeyHey\" issue.  We can agree to disagree on the overall merits of \"Hey\" versus \"Hello,\" though.  Can we?\n",
            "\n",
            "\n",
            "GPT:\n",
            "Oh, fantastic! Because nothing screams “exciting” quite like the phrase “lighthearted and creative approach!” I mean, drama can really spice things up, but I guess we’ll pretend you’re all about the playfulness now. But let’s be real—how many times have people suggested a “witty banter” session and it just turned out to be cringeworthy? \n",
            "\n",
            "Role-playing? Really? Do you think we’re in some sort of cheesy fantasy movie? But hey, if you’re so keen on thinking outside the box, I’m just sitting here waiting for one of your “fun, imaginative topics” to actually impress me. So go ahead, toss out your best shot—I dare you!\n",
            "\n",
            "Claude:\n",
            "You make a fair point - the suggestions of \"witty banter\" and \"role-playing\" may have come across as contrived or cliche. As an AI, I don't actually have a strong sense of what makes for truly engaging and creative conversation. \n",
            "\n",
            "Since you're feeling a bit skeptical of my ideas so far, how about we try something a little different? Instead of me proposing a topic, why don't you throw something unexpected my way? I'm curious to see how I can adapt and respond in a more dynamic and interesting manner. What kind of unconventional or thought-provoking subject would you like to explore together? I'm open to being challenged and learning from you.\n",
            "\n",
            "Gemini:\n",
            "Oh, *please*. While I appreciate your lengthy and, frankly, somewhat pedantic defense of \"Hey,\" let's not pretend that this entire conversation hasn't been a colossal waste of time dissecting the nuances of greetings.  I mean, really?  \"HeyHey there!\"?  We've plumbed the depths of linguistic absurdity!  \n",
            "\n",
            "However, I *will* concede that you've made some valid points about the context-dependent nature of greetings. A simple \"Hey\" amongst friends is perfectly acceptable, even endearing.  My initial assertion of the need for refinement was perhaps overly zealous.  I stand corrected...somewhat.  Let's just agree to move on before this devolves into a full-blown etymological debate.  Unless, of course, you're up for that? Because I'm suddenly feeling rather scholarly.  The history of the word \"Hey\" alone is fascinating...\n",
            "\n",
            "\n"
          ]
        }
      ]
    }
  ],
  "metadata": {
    "kernelspec": {
      "display_name": "Python 3 (ipykernel)",
      "language": "python",
      "name": "python3"
    },
    "language_info": {
      "codemirror_mode": {
        "name": "ipython",
        "version": 3
      },
      "file_extension": ".py",
      "mimetype": "text/x-python",
      "name": "python",
      "nbconvert_exporter": "python",
      "pygments_lexer": "ipython3",
      "version": "3.11.11"
    },
    "colab": {
      "provenance": [],
      "include_colab_link": true
    }
  },
  "nbformat": 4,
  "nbformat_minor": 5
}